{
 "cells": [
  {
   "cell_type": "code",
   "execution_count": 1,
   "id": "neural-wyoming",
   "metadata": {},
   "outputs": [],
   "source": [
    "import numpy as np\n",
    "\n",
    "from numba import njit"
   ]
  },
  {
   "cell_type": "code",
   "execution_count": 2,
   "id": "sharp-welsh",
   "metadata": {},
   "outputs": [],
   "source": [
    "def show(G):\n",
    "    \n",
    "    tmp = 'X | '\n",
    "    for v in V:\n",
    "        tmp += ' ' + v + ' '\n",
    "    \n",
    "    print(tmp)\n",
    "    print('')\n",
    "    \n",
    "    for row in range(len(V)):\n",
    "        \n",
    "        tmp = V[row] + ' | '\n",
    "        for col in range(Vsize):\n",
    "            w = int(G[row][col])\n",
    "            if w < 10 : tmp +=  ' ' + str(w) + ' '\n",
    "            if 10 <= w < 100 : tmp +=  ' ' + str(w)\n",
    "            \n",
    "            \n",
    "        print(tmp)"
   ]
  },
  {
   "cell_type": "code",
   "execution_count": 3,
   "id": "human-organization",
   "metadata": {},
   "outputs": [],
   "source": [
    "def show_path(path, V):\n",
    "    tmp = '[show_path] Path is: '\n",
    "    for v in path:\n",
    "        tmp += str(V[v]) + ','\n",
    "    print(tmp, ' .')"
   ]
  },
  {
   "cell_type": "markdown",
   "id": "artistic-dress",
   "metadata": {},
   "source": [
    "---"
   ]
  },
  {
   "cell_type": "markdown",
   "id": "arabic-sherman",
   "metadata": {},
   "source": [
    "## Graph init"
   ]
  },
  {
   "cell_type": "markdown",
   "id": "laughing-grove",
   "metadata": {},
   "source": [
    "<img src=\"TestGraph.png\">"
   ]
  },
  {
   "cell_type": "code",
   "execution_count": 4,
   "id": "independent-combining",
   "metadata": {},
   "outputs": [],
   "source": [
    "Vsize = 10\n",
    "Esize = 12\n",
    "\n",
    "V = ['S', 'a', 'b', 'c', 'd', 'x', 'y', 'z', 'g', 'E']"
   ]
  },
  {
   "cell_type": "code",
   "execution_count": 5,
   "id": "authorized-olympus",
   "metadata": {},
   "outputs": [],
   "source": [
    "G = np.zeros((Vsize, Vsize))"
   ]
  },
  {
   "cell_type": "code",
   "execution_count": 6,
   "id": "sixth-american",
   "metadata": {},
   "outputs": [],
   "source": [
    "G[0][1] = 20\n",
    "G[0][2] = 30\n",
    "\n",
    "G[1][3] = 15\n",
    "G[1][4] = 10\n",
    "\n",
    "G[2][4] = 15\n",
    "\n",
    "G[3][5] = 15\n",
    "\n",
    "G[4][6] = 30\n",
    "G[4][7] = 10\n",
    "\n",
    "G[5][8] = 20\n",
    "\n",
    "G[6][9] = 25\n",
    "\n",
    "G[7][9] = 20\n",
    "\n",
    "G[8][9] = 5"
   ]
  },
  {
   "cell_type": "code",
   "execution_count": 7,
   "id": "located-continuity",
   "metadata": {},
   "outputs": [
    {
     "name": "stdout",
     "output_type": "stream",
     "text": [
      "X |  S  a  b  c  d  x  y  z  g  E \n",
      "\n",
      "S |  0  20 30 0  0  0  0  0  0  0 \n",
      "a |  0  0  0  15 10 0  0  0  0  0 \n",
      "b |  0  0  0  0  15 0  0  0  0  0 \n",
      "c |  0  0  0  0  0  15 0  0  0  0 \n",
      "d |  0  0  0  0  0  0  30 10 0  0 \n",
      "x |  0  0  0  0  0  0  0  0  20 0 \n",
      "y |  0  0  0  0  0  0  0  0  0  25\n",
      "z |  0  0  0  0  0  0  0  0  0  20\n",
      "g |  0  0  0  0  0  0  0  0  0  5 \n",
      "E |  0  0  0  0  0  0  0  0  0  0 \n"
     ]
    }
   ],
   "source": [
    "show(G)"
   ]
  },
  {
   "cell_type": "markdown",
   "id": "voluntary-automation",
   "metadata": {},
   "source": [
    "---"
   ]
  },
  {
   "cell_type": "markdown",
   "id": "finished-array",
   "metadata": {},
   "source": [
    "## MaxFlow"
   ]
  },
  {
   "cell_type": "code",
   "execution_count": 8,
   "id": "matched-moral",
   "metadata": {},
   "outputs": [],
   "source": [
    "#@njit\n",
    "def iteration(G, F, V, _inf=99999999):\n",
    "    \n",
    "    Prev = np.full(Vsize, -1) # Prev node\n",
    "    Q = [0] #Queue\n",
    "    \n",
    "    \n",
    "    # BFS\n",
    "    while Q != []:\n",
    "\n",
    "        v_curr = Q[0]\n",
    "        for v_ind, capacity in enumerate( G[v_curr] ):\n",
    "            if F[v_curr][v_ind] < capacity and Prev[v_ind] == -1 and v_ind != v_curr:\n",
    "                Q.append(v_ind)\n",
    "                Prev[v_ind] = v_curr\n",
    "        Q.pop(0)\n",
    "    \n",
    "    \n",
    "    # path reconstruction\n",
    "    v_curr = Vsize - 1\n",
    "    path = [v_curr]\n",
    "    while True:\n",
    "        v_prev = Prev[v_curr]\n",
    "        v_curr = v_prev\n",
    "        if v_curr == -1 : break\n",
    "        path.append(v_curr)\n",
    "\n",
    "    path = path[::-1]\n",
    "    \n",
    "    \n",
    "    # path bottleneck\n",
    "    bottleneck = _inf # float('inf') doesn't work with numba\n",
    "    for i in range(len(path) - 1):\n",
    "        v_curr = path[i]\n",
    "        v_next = path[i+1]\n",
    "\n",
    "        if G[v_curr][v_next] < bottleneck: \n",
    "            bottleneck = G[v_curr][v_next]\n",
    "    if bottleneck == _inf : return F, True\n",
    "    \n",
    "    \n",
    "    # path flow update\n",
    "    for i in range(len(path) - 1):\n",
    "        v_curr = path[i]\n",
    "        v_next = path[i+1]\n",
    "\n",
    "        F[v_curr][v_next] += bottleneck\n",
    "        \n",
    "    \n",
    "    print('')\n",
    "    print('----- New iteration -----')\n",
    "    #show_path(path, V)\n",
    "    print('Bottleneck is: ', bottleneck)\n",
    "    \n",
    "    return F, False"
   ]
  },
  {
   "cell_type": "code",
   "execution_count": 9,
   "id": "practical-intervention",
   "metadata": {},
   "outputs": [],
   "source": [
    "# Init\n",
    "F_ = np.zeros((Vsize, Vsize)) # Current flow"
   ]
  },
  {
   "cell_type": "code",
   "execution_count": 10,
   "id": "removed-dylan",
   "metadata": {},
   "outputs": [
    {
     "name": "stdout",
     "output_type": "stream",
     "text": [
      "\n",
      "----- New iteration -----\n",
      "Bottleneck is:  10.0\n",
      "\n",
      "----- New iteration -----\n",
      "Bottleneck is:  15.0\n",
      "\n",
      "----- New iteration -----\n",
      "Bottleneck is:  5.0\n"
     ]
    }
   ],
   "source": [
    "while True:\n",
    "    F_, end = iteration(G, F_, V)\n",
    "    if end : break"
   ]
  },
  {
   "cell_type": "code",
   "execution_count": 11,
   "id": "hawaiian-explanation",
   "metadata": {},
   "outputs": [
    {
     "name": "stdout",
     "output_type": "stream",
     "text": [
      "MaxFlow is:  30.0\n"
     ]
    }
   ],
   "source": [
    "print('MaxFlow is: ', sum(F_[:, -1]))"
   ]
  },
  {
   "cell_type": "markdown",
   "id": "amber-delta",
   "metadata": {},
   "source": [
    "---"
   ]
  },
  {
   "cell_type": "markdown",
   "id": "sized-italy",
   "metadata": {},
   "source": [
    "## MinCut"
   ]
  },
  {
   "cell_type": "code",
   "execution_count": 12,
   "id": "dependent-repair",
   "metadata": {},
   "outputs": [
    {
     "data": {
      "text/plain": [
       "[0, 1, 2, 3, 5, 8]"
      ]
     },
     "execution_count": 12,
     "metadata": {},
     "output_type": "execute_result"
    }
   ],
   "source": [
    "# BFS\n",
    "Prev = np.full(Vsize, -1) # Prev node\n",
    "Q = [0] # Queue\n",
    "cursor = 0 # instead of popping elements of of the Q\n",
    "\n",
    "while True:\n",
    "\n",
    "    v_curr = Q[cursor]\n",
    "    for v_ind, capacity in enumerate( G[v_curr] ):\n",
    "        if 0 < F_[v_curr][v_ind] < capacity and Prev[v_ind] == -1 and v_ind != v_curr:\n",
    "            Q.append(v_ind)\n",
    "            Prev[v_ind] = v_curr\n",
    "    \n",
    "    cursor += 1\n",
    "    if cursor >= len(Q) : break\n",
    "    \n",
    "Q"
   ]
  },
  {
   "cell_type": "code",
   "execution_count": 13,
   "id": "subject-motion",
   "metadata": {},
   "outputs": [],
   "source": [
    "# S a b c d x y z g E\n",
    "# 0 1 2 3 4 5 6 7 8 9"
   ]
  }
 ],
 "metadata": {
  "kernelspec": {
   "display_name": "Python 3",
   "language": "python",
   "name": "python3"
  },
  "language_info": {
   "codemirror_mode": {
    "name": "ipython",
    "version": 3
   },
   "file_extension": ".py",
   "mimetype": "text/x-python",
   "name": "python",
   "nbconvert_exporter": "python",
   "pygments_lexer": "ipython3",
   "version": "3.8.5"
  }
 },
 "nbformat": 4,
 "nbformat_minor": 5
}
