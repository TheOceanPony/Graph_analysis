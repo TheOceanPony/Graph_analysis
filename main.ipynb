{
 "cells": [
  {
   "cell_type": "code",
   "execution_count": 1,
   "metadata": {},
   "outputs": [],
   "source": [
    "import numpy as np\n",
    "import cv2\n",
    "from PIL import Image"
   ]
  },
  {
   "cell_type": "code",
   "execution_count": 2,
   "metadata": {},
   "outputs": [
    {
     "data": {
      "image/png": "[encoded data removed]",
      "text/plain": [
       "<PIL.Image.Image image mode=L size=64x64 at 0x7F7DCC51E100>"
      ]
     },
     "execution_count": 2,
     "metadata": {},
     "output_type": "execute_result"
    }
   ],
   "source": [
    "img = cv2.imread(\"1.png\")\n",
    "img = cv2.cvtColor(img, cv2.COLOR_BGR2GRAY)\n",
    "h, w = img.shape\n",
    "value = 50\n",
    "Image.fromarray(img)"
   ]
  },
  {
   "cell_type": "code",
   "execution_count": 3,
   "metadata": {},
   "outputs": [
    {
     "name": "stdout",
     "output_type": "stream",
     "text": [
      "(4098, 4098)\n"
     ]
    }
   ],
   "source": [
    "g = np.ones((h*w + 2, h*w + 2), dtype = np.float32)\n",
    "print(g.shape)"
   ]
  },
  {
   "cell_type": "code",
   "execution_count": 4,
   "metadata": {},
   "outputs": [],
   "source": [
    "g[1:-1, 0] = img.flatten()\n",
    "g[1:-1, -1] = 255 - img.flatten()"
   ]
  },
  {
   "cell_type": "code",
   "execution_count": 5,
   "metadata": {},
   "outputs": [],
   "source": [
    "for i in range(h):\n",
    "    for j in range(w):\n",
    "        index = j + i*w + 1\n",
    "        #print(index)\n",
    "        # left\n",
    "        if j > 0:\n",
    "            left_index = j - 1 + i*w + 1\n",
    "            g[left_index, index] = value\n",
    "        # right\n",
    "        if j < w - 1:\n",
    "            right_index = j + 1 + i*w + 1\n",
    "            g[right_index, index] = value\n",
    "        # up\n",
    "        if i > 0:\n",
    "            up_index = j + (i-1)*w + 1\n",
    "            g[up_index, index] = value\n",
    "        # down\n",
    "        if i < h - 1:\n",
    "            down_index = j + (i+1)*w + 1\n",
    "            g[down_index, index] = value"
   ]
  }
 ],
 "metadata": {
  "kernelspec": {
   "display_name": "Python 3",
   "language": "python",
   "name": "python3"
  },
  "language_info": {
   "codemirror_mode": {
    "name": "ipython",
    "version": 3
   },
   "file_extension": ".py",
   "mimetype": "text/x-python",
   "name": "python",
   "nbconvert_exporter": "python",
   "pygments_lexer": "ipython3",
   "version": "3.8.5"
  }
 },
 "nbformat": 4,
 "nbformat_minor": 2
}
