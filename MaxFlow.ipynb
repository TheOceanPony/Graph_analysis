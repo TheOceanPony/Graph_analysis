{
 "cells": [
  {
   "cell_type": "code",
   "execution_count": 1,
   "metadata": {},
   "outputs": [],
   "source": [
    "import numpy as np\n",
    "\n",
    "from numba import njit\n",
    "from time import time"
   ]
  },
  {
   "cell_type": "code",
   "execution_count": 2,
   "metadata": {},
   "outputs": [],
   "source": [
    "def show(G):\n",
    "    \n",
    "    tmp = 'X | '\n",
    "    for v in V:\n",
    "        tmp += ' ' + v + ' '\n",
    "    \n",
    "    print(tmp)\n",
    "    print('')\n",
    "    \n",
    "    for row in range(len(V)):\n",
    "        \n",
    "        tmp = V[row] + ' | '\n",
    "        for col in range(Vsize):\n",
    "            w = int(G[row][col])\n",
    "            if w < 10 : tmp +=  ' ' + str(w) + ' '\n",
    "            if 10 <= w < 100 : tmp +=  ' ' + str(w)\n",
    "            \n",
    "            \n",
    "        print(tmp)"
   ]
  },
  {
   "cell_type": "code",
   "execution_count": 3,
   "metadata": {},
   "outputs": [],
   "source": [
    "def show_path(path, V):\n",
    "    tmp = '[show_path] Path is: '\n",
    "    for v in path:\n",
    "        tmp += str(V[v]) + ','\n",
    "    print(tmp, ' .')"
   ]
  },
  {
   "cell_type": "markdown",
   "metadata": {},
   "source": [
    "---"
   ]
  },
  {
   "cell_type": "markdown",
   "metadata": {},
   "source": [
    "## Graph init"
   ]
  },
  {
   "cell_type": "markdown",
   "metadata": {},
   "source": [
    "<img src=\"TestGraph.png\">"
   ]
  },
  {
   "cell_type": "code",
   "execution_count": 4,
   "metadata": {},
   "outputs": [],
   "source": [
    "Vsize = 10\n",
    "Esize = 12\n",
    "\n",
    "V = ['S', 'a', 'b', 'c', 'd', 'x', 'y', 'z', 'g', 'E']"
   ]
  },
  {
   "cell_type": "code",
   "execution_count": 5,
   "metadata": {},
   "outputs": [],
   "source": [
    "G = np.zeros((Vsize, Vsize))"
   ]
  },
  {
   "cell_type": "code",
   "execution_count": 6,
   "metadata": {},
   "outputs": [],
   "source": [
    "G[0][1] = 20\n",
    "G[0][2] = 30\n",
    "\n",
    "G[1][3] = 15\n",
    "G[1][4] = 10\n",
    "\n",
    "G[2][4] = 15\n",
    "\n",
    "G[3][5] = 15\n",
    "\n",
    "G[4][6] = 30\n",
    "G[4][7] = 10\n",
    "\n",
    "G[5][8] = 20\n",
    "\n",
    "G[6][9] = 25\n",
    "\n",
    "G[7][9] = 20\n",
    "\n",
    "G[8][9] = 5"
   ]
  },
  {
   "cell_type": "code",
   "execution_count": 7,
   "metadata": {},
   "outputs": [
    {
     "name": "stdout",
     "output_type": "stream",
     "text": [
      "X |  S  a  b  c  d  x  y  z  g  E \n",
      "\n",
      "S |  0  20 30 0  0  0  0  0  0  0 \n",
      "a |  0  0  0  15 10 0  0  0  0  0 \n",
      "b |  0  0  0  0  15 0  0  0  0  0 \n",
      "c |  0  0  0  0  0  15 0  0  0  0 \n",
      "d |  0  0  0  0  0  0  30 10 0  0 \n",
      "x |  0  0  0  0  0  0  0  0  20 0 \n",
      "y |  0  0  0  0  0  0  0  0  0  25\n",
      "z |  0  0  0  0  0  0  0  0  0  20\n",
      "g |  0  0  0  0  0  0  0  0  0  5 \n",
      "E |  0  0  0  0  0  0  0  0  0  0 \n"
     ]
    }
   ],
   "source": [
    "show(G)"
   ]
  },
  {
   "cell_type": "markdown",
   "metadata": {},
   "source": [
    "---"
   ]
  },
  {
   "cell_type": "markdown",
   "metadata": {},
   "source": [
    "## MaxFlow"
   ]
  },
  {
   "cell_type": "code",
   "execution_count": 8,
   "metadata": {},
   "outputs": [],
   "source": [
    "@njit\n",
    "def iteration(G, F, V, _inf=99999999):\n",
    "    \n",
    "    Prev = np.full(Vsize, -1) # Prev node\n",
    "    Q = [0] # Queue\n",
    "    cursor = 0 # instead of popping elements of of the Q\n",
    "\n",
    "    while cursor < Vsize:\n",
    "\n",
    "        v_curr = Q[cursor]\n",
    "        for v_ind, capacity in enumerate( G[v_curr] ):\n",
    "            if F[v_curr, v_ind] < capacity and Prev[v_ind] == -1 and v_ind != v_curr:\n",
    "                Q.append(v_ind)\n",
    "                Prev[v_ind] = v_curr\n",
    "\n",
    "        cursor += 1\n",
    "        if cursor >= len(Q) : break\n",
    "\n",
    "    # path reconstruction\n",
    "    v_curr = Vsize - 1\n",
    "    path = [v_curr]\n",
    "    while True:\n",
    "        v_prev = Prev[v_curr]\n",
    "        v_curr = v_prev\n",
    "        if v_curr == -1 : break\n",
    "        path.append(v_curr)\n",
    "\n",
    "    path = path[::-1]\n",
    "    \n",
    "    \n",
    "    # path bottleneck\n",
    "    bottleneck = _inf # float('inf') doesn't work with numba\n",
    "    for i in range(len(path) - 1):\n",
    "        v_curr = path[i]\n",
    "        v_next = path[i+1]\n",
    "\n",
    "        if G[v_curr, v_next] < bottleneck: \n",
    "            bottleneck = G[v_curr, v_next]\n",
    "    if bottleneck == _inf : return F, True\n",
    "    \n",
    "    \n",
    "    # path flow update\n",
    "    for i in range(len(path) - 1):\n",
    "        v_curr = path[i]\n",
    "        v_next = path[i+1]\n",
    "\n",
    "        F[v_curr, v_next] += bottleneck\n",
    "        \n",
    "    \n",
    "    #print('')\n",
    "    #print('----- New iteration -----')\n",
    "    #show_path(path, V)\n",
    "    #print('Bottleneck is: ', bottleneck)\n",
    "    \n",
    "    return F, False"
   ]
  },
  {
   "cell_type": "code",
   "execution_count": 9,
   "metadata": {},
   "outputs": [],
   "source": [
    "Vsize = G.shape[0]\n",
    "F_ = np.zeros((Vsize, Vsize)) # Current flow"
   ]
  },
  {
   "cell_type": "code",
   "execution_count": 10,
   "metadata": {
    "scrolled": false
   },
   "outputs": [
    {
     "name": "stderr",
     "output_type": "stream",
     "text": [
      "c:\\users\\ocean\\appdata\\local\\programs\\python\\python38\\lib\\site-packages\\numba\\core\\ir_utils.py:2031: NumbaPendingDeprecationWarning: \u001b[1m\n",
      "Encountered the use of a type that is scheduled for deprecation: type 'reflected list' found for argument 'V' of function 'iteration'.\n",
      "\n",
      "For more information visit https://numba.pydata.org/numba-doc/latest/reference/deprecation.html#deprecation-of-reflection-for-list-and-set-types\n",
      "\u001b[1m\n",
      "File \"<ipython-input-8-1e387879ccfd>\", line 2:\u001b[0m\n",
      "\u001b[1m@njit\n",
      "\u001b[1mdef iteration(G, F, V, _inf=99999999):\n",
      "\u001b[0m\u001b[1m^\u001b[0m\u001b[0m\n",
      "\u001b[0m\n",
      "  warnings.warn(NumbaPendingDeprecationWarning(msg, loc=loc))\n"
     ]
    },
    {
     "name": "stdout",
     "output_type": "stream",
     "text": [
      "Time:  0.558506965637207\n"
     ]
    }
   ],
   "source": [
    "start = time()\n",
    "\n",
    "while True:\n",
    "        F_, end = iteration(G, F_, V)\n",
    "        if end : break\n",
    "            \n",
    "end = time()\n",
    "print('Time: ', end - start)"
   ]
  },
  {
   "cell_type": "code",
   "execution_count": 11,
   "metadata": {},
   "outputs": [
    {
     "name": "stdout",
     "output_type": "stream",
     "text": [
      "MaxFlow is:  30.0\n"
     ]
    }
   ],
   "source": [
    "print('MaxFlow is: ', sum(F_[:, -1]))"
   ]
  },
  {
   "cell_type": "markdown",
   "metadata": {},
   "source": [
    "---"
   ]
  },
  {
   "cell_type": "markdown",
   "metadata": {},
   "source": [
    "## MinCut"
   ]
  },
  {
   "cell_type": "code",
   "execution_count": 12,
   "metadata": {},
   "outputs": [
    {
     "data": {
      "text/plain": [
       "[0, 1, 2, 3, 5, 8]"
      ]
     },
     "execution_count": 12,
     "metadata": {},
     "output_type": "execute_result"
    }
   ],
   "source": [
    "# BFS\n",
    "Prev = np.full(Vsize, -1) # Prev node\n",
    "Q = [0] # Queue\n",
    "cursor = 0 # instead of popping elements of of the Q\n",
    "\n",
    "while True:\n",
    "\n",
    "    v_curr = Q[cursor]\n",
    "    for v_ind, capacity in enumerate( G[v_curr] ):\n",
    "        if 0 < F_[v_curr][v_ind] < capacity and Prev[v_ind] == -1 and v_ind != v_curr:\n",
    "            Q.append(v_ind)\n",
    "            Prev[v_ind] = v_curr\n",
    "    \n",
    "    cursor += 1\n",
    "    if cursor >= len(Q) : break\n",
    "    \n",
    "Q"
   ]
  },
  {
   "cell_type": "code",
   "execution_count": 13,
   "metadata": {},
   "outputs": [],
   "source": [
    "# S a b c d x y z g E\n",
    "# 0 1 2 3 4 5 6 7 8 9"
   ]
  },
  {
   "cell_type": "markdown",
   "metadata": {},
   "source": [
    "---"
   ]
  },
  {
   "cell_type": "markdown",
   "metadata": {},
   "source": [
    "# Lab 1"
   ]
  },
  {
   "cell_type": "code",
   "execution_count": 14,
   "metadata": {},
   "outputs": [],
   "source": [
    "import cv2\n",
    "from PIL import Image"
   ]
  },
  {
   "cell_type": "code",
   "execution_count": 15,
   "metadata": {},
   "outputs": [
    {
     "data": {
      "image/png": "[encoded data removed]",
      "text/plain": [
       "<PIL.Image.Image image mode=L size=64x64 at 0x26EAB9A5B80>"
      ]
     },
     "execution_count": 15,
     "metadata": {},
     "output_type": "execute_result"
    }
   ],
   "source": [
    "img = cv2.imread(\"1.png\")\n",
    "img = cv2.cvtColor(img, cv2.COLOR_BGR2GRAY)\n",
    "#img = cv2.resize(img, (32,32))\n",
    "h, w = img.shape\n",
    "value = 50\n",
    "Image.fromarray(img)"
   ]
  },
  {
   "cell_type": "code",
   "execution_count": 16,
   "metadata": {},
   "outputs": [
    {
     "name": "stdout",
     "output_type": "stream",
     "text": [
      "(4098, 4098)\n"
     ]
    }
   ],
   "source": [
    "g = np.zeros((h*w + 2, h*w + 2), dtype = np.float32)\n",
    "print(g.shape)"
   ]
  },
  {
   "cell_type": "code",
   "execution_count": 17,
   "metadata": {},
   "outputs": [],
   "source": [
    "g[0, 1:-1] = img.flatten()\n",
    "g[1:-1, -1] = 255 - img.flatten()\n",
    "for i in range(h):\n",
    "    for j in range(w):\n",
    "        index = j + i*w + 1\n",
    "        #print(index)\n",
    "        # left\n",
    "        if j > 0:\n",
    "            left_index = j - 1 + i*w + 1\n",
    "            g[left_index, index] = value\n",
    "        # right\n",
    "        if j < w - 1:\n",
    "            right_index = j + 1 + i*w + 1\n",
    "            g[right_index, index] = value"
   ]
  },
  {
   "cell_type": "raw",
   "metadata": {},
   "source": [
    "        # up\n",
    "        if i > 0:\n",
    "            up_index = j + (i-1)*w + 1\n",
    "            g[up_index, index] = value\n",
    "        # down\n",
    "        if i < h - 1:\n",
    "            down_index = j + (i+1)*w + 1\n",
    "            g[down_index, index] = value"
   ]
  },
  {
   "cell_type": "markdown",
   "metadata": {},
   "source": [
    "---"
   ]
  },
  {
   "cell_type": "code",
   "execution_count": 18,
   "metadata": {},
   "outputs": [],
   "source": [
    "Vsize = g.shape[0]\n",
    "F_ = np.zeros((Vsize, Vsize)) # Current flow"
   ]
  },
  {
   "cell_type": "code",
   "execution_count": 19,
   "metadata": {},
   "outputs": [
    {
     "name": "stderr",
     "output_type": "stream",
     "text": [
      "c:\\users\\ocean\\appdata\\local\\programs\\python\\python38\\lib\\site-packages\\numba\\core\\ir_utils.py:2031: NumbaPendingDeprecationWarning: \u001b[1m\n",
      "Encountered the use of a type that is scheduled for deprecation: type 'reflected list' found for argument 'V' of function 'iteration'.\n",
      "\n",
      "For more information visit https://numba.pydata.org/numba-doc/latest/reference/deprecation.html#deprecation-of-reflection-for-list-and-set-types\n",
      "\u001b[1m\n",
      "File \"<ipython-input-8-1e387879ccfd>\", line 2:\u001b[0m\n",
      "\u001b[1m@njit\n",
      "\u001b[1mdef iteration(G, F, V, _inf=99999999):\n",
      "\u001b[0m\u001b[1m^\u001b[0m\u001b[0m\n",
      "\u001b[0m\n",
      "  warnings.warn(NumbaPendingDeprecationWarning(msg, loc=loc))\n"
     ]
    },
    {
     "name": "stdout",
     "output_type": "stream",
     "text": [
      ">  0\n",
      ">  100\n",
      ">  200\n",
      ">  300\n",
      ">  400\n",
      ">  500\n",
      ">  600\n",
      ">  700\n",
      ">  800\n",
      ">  900\n",
      ">  1000\n",
      ">  1100\n",
      ">  1200\n",
      ">  1300\n",
      ">  1400\n",
      ">  1500\n",
      ">  1600\n",
      ">  1700\n",
      ">  1800\n",
      ">  1900\n",
      ">  2000\n",
      ">  2100\n",
      ">  2200\n",
      ">  2300\n",
      ">  2400\n",
      ">  2500\n",
      ">  2600\n",
      ">  2700\n",
      ">  2800\n",
      ">  2900\n",
      ">  3000\n",
      ">  3100\n",
      ">  3200\n",
      ">  3300\n",
      ">  3400\n",
      ">  3500\n",
      ">  3600\n",
      ">  3700\n",
      ">  3800\n",
      ">  3900\n",
      ">  4000\n",
      ">  4100\n",
      ">  4200\n",
      ">  4300\n",
      ">  4400\n",
      ">  4500\n",
      ">  4600\n",
      ">  4700\n",
      ">  4800\n",
      ">  4900\n",
      ">  4987\n",
      "Time:  51.47618556022644\n"
     ]
    }
   ],
   "source": [
    "start = time()\n",
    "\n",
    "i = 0\n",
    "while True:\n",
    "        F_, end = iteration(g, F_, V)\n",
    "        if end : break\n",
    "            \n",
    "        if i % 100 == 0:\n",
    "            print('> ', i)\n",
    "        i += 1\n",
    "        \n",
    "print('> ', i)\n",
    "            \n",
    "end = time()\n",
    "print('Time: ', end - start)"
   ]
  },
  {
   "cell_type": "code",
   "execution_count": 20,
   "metadata": {},
   "outputs": [
    {
     "name": "stdout",
     "output_type": "stream",
     "text": [
      "MaxFlow is:  423217.0\n"
     ]
    }
   ],
   "source": [
    "print('MaxFlow is: ', sum(F_[:, -1]))"
   ]
  },
  {
   "cell_type": "markdown",
   "metadata": {},
   "source": [
    "---"
   ]
  },
  {
   "cell_type": "markdown",
   "metadata": {},
   "source": [
    "### MinCut"
   ]
  },
  {
   "cell_type": "code",
   "execution_count": 21,
   "metadata": {},
   "outputs": [],
   "source": [
    "# BFS\n",
    "Prev = np.full(Vsize, -1) # Prev node\n",
    "Q = [0] # Queue\n",
    "cursor = 0 # instead of popping elements of of the Q\n",
    "\n",
    "while True:\n",
    "\n",
    "    v_curr = Q[cursor]\n",
    "    for v_ind, capacity in enumerate( g[v_curr] ):\n",
    "        if 0 < F_[v_curr][v_ind] < capacity and Prev[v_ind] == -1 and v_ind != v_curr:\n",
    "            Q.append(v_ind)\n",
    "            Prev[v_ind] = v_curr\n",
    "    \n",
    "    cursor += 1\n",
    "    if cursor >= len(Q) : break"
   ]
  },
  {
   "cell_type": "code",
   "execution_count": 22,
   "metadata": {},
   "outputs": [
    {
     "ename": "IndexError",
     "evalue": "index 1024 is out of bounds for axis 0 with size 1024",
     "output_type": "error",
     "traceback": [
      "\u001b[1;31m---------------------------------------------------------------------------\u001b[0m",
      "\u001b[1;31mIndexError\u001b[0m                                Traceback (most recent call last)",
      "\u001b[1;32m<ipython-input-22-e710b57815af>\u001b[0m in \u001b[0;36m<module>\u001b[1;34m\u001b[0m\n\u001b[0;32m      2\u001b[0m \u001b[1;33m\u001b[0m\u001b[0m\n\u001b[0;32m      3\u001b[0m \u001b[1;32mfor\u001b[0m \u001b[0mi\u001b[0m \u001b[1;32min\u001b[0m \u001b[0mrange\u001b[0m\u001b[1;33m(\u001b[0m\u001b[0mlen\u001b[0m\u001b[1;33m(\u001b[0m\u001b[0mQ\u001b[0m\u001b[1;33m[\u001b[0m\u001b[1;33m:\u001b[0m\u001b[1;33m-\u001b[0m\u001b[1;36m1\u001b[0m\u001b[1;33m]\u001b[0m\u001b[1;33m)\u001b[0m\u001b[1;33m)\u001b[0m\u001b[1;33m:\u001b[0m\u001b[1;33m\u001b[0m\u001b[1;33m\u001b[0m\u001b[0m\n\u001b[1;32m----> 4\u001b[1;33m     \u001b[0mres\u001b[0m\u001b[1;33m[\u001b[0m\u001b[0mQ\u001b[0m\u001b[1;33m[\u001b[0m\u001b[0mi\u001b[0m\u001b[1;33m]\u001b[0m\u001b[1;33m]\u001b[0m \u001b[1;33m=\u001b[0m \u001b[1;36m0\u001b[0m\u001b[1;33m\u001b[0m\u001b[1;33m\u001b[0m\u001b[0m\n\u001b[0m\u001b[0;32m      5\u001b[0m \u001b[1;33m\u001b[0m\u001b[0m\n\u001b[0;32m      6\u001b[0m \u001b[0mres\u001b[0m \u001b[1;33m=\u001b[0m \u001b[0mnp\u001b[0m\u001b[1;33m.\u001b[0m\u001b[0mreshape\u001b[0m\u001b[1;33m(\u001b[0m\u001b[0mres\u001b[0m\u001b[1;33m,\u001b[0m \u001b[1;33m(\u001b[0m\u001b[1;36m32\u001b[0m\u001b[1;33m,\u001b[0m \u001b[1;36m32\u001b[0m\u001b[1;33m)\u001b[0m\u001b[1;33m)\u001b[0m\u001b[1;33m\u001b[0m\u001b[1;33m\u001b[0m\u001b[0m\n",
      "\u001b[1;31mIndexError\u001b[0m: index 1024 is out of bounds for axis 0 with size 1024"
     ]
    }
   ],
   "source": [
    "res = np.ones((32*32))\n",
    "\n",
    "for i in range(len(Q[:-1])):\n",
    "    res[Q[i]] = 0\n",
    "    \n",
    "res = np.reshape(res, (32, 32))"
   ]
  },
  {
   "cell_type": "code",
   "execution_count": null,
   "metadata": {},
   "outputs": [],
   "source": [
    "import matplotlib.pyplot as plt"
   ]
  },
  {
   "cell_type": "code",
   "execution_count": null,
   "metadata": {},
   "outputs": [],
   "source": [
    "plt.imshow(res)"
   ]
  }
 ],
 "metadata": {
  "kernelspec": {
   "display_name": "Python 3",
   "language": "python",
   "name": "python3"
  },
  "language_info": {
   "codemirror_mode": {
    "name": "ipython",
    "version": 3
   },
   "file_extension": ".py",
   "mimetype": "text/x-python",
   "name": "python",
   "nbconvert_exporter": "python",
   "pygments_lexer": "ipython3",
   "version": "3.8.0"
  }
 },
 "nbformat": 4,
 "nbformat_minor": 5
}
